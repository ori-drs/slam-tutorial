{
 "cells": [
  {
   "cell_type": "markdown",
   "metadata": {},
   "source": [
    "# SLAM tutorial\n",
    "\n",
    "SLAM and factor graphs tutorial prepared for the ORIentate Seminars\n",
    "\n",
    "Author: Matias Mattamala (matias@robots.ox.ac.uk, [mmattamala@github](https://github.com/mmattamala))\n",
    "\n",
    "Date: 23/11/2023\n",
    "\n",
    "\n",
    "> ⚠️ **Warning**: Before proceeding, make sure you installed all the required dependencies in the [`requirements.txt`](../requirements.txt) file!\n"
   ]
  },
  {
   "cell_type": "markdown",
   "metadata": {},
   "source": [
    "## Preliminaries"
   ]
  },
  {
   "cell_type": "code",
   "execution_count": null,
   "metadata": {
    "tags": []
   },
   "outputs": [],
   "source": [
    "%pip install -e ../"
   ]
  },
  {
   "cell_type": "markdown",
   "metadata": {
    "tags": []
   },
   "source": [
    "### Part 1: Inspecting a perfect SLAM graph"
   ]
  },
  {
   "cell_type": "code",
   "execution_count": null,
   "metadata": {
    "tags": []
   },
   "outputs": [],
   "source": [
    "import slam_tutorial\n",
    "from slam_tutorial.io import load_pose_graph\n",
    "graph = load_pose_graph(slam_tutorial.ASSETS_DIR + \"/ground_truth.slam\")"
   ]
  },
  {
   "cell_type": "code",
   "execution_count": null,
   "metadata": {},
   "outputs": [],
   "source": [
    "import slam_tutorial.visualization as vis\n",
    "vis.show_pose_graph(graph)"
   ]
  },
  {
   "cell_type": "markdown",
   "metadata": {},
   "source": [
    "### Part 2: A more realistic pose graph"
   ]
  },
  {
   "cell_type": "code",
   "execution_count": null,
   "metadata": {},
   "outputs": [],
   "source": [
    "import slam_tutorial.pose_graph as pg\n",
    "graph_with_drift = pg.add_odometry_drift(graph, noise_per_m=0.1, axis=\"xy\", drift_type=\"random_walk\")\n",
    "vis.show_pose_graph(graph_with_drift)"
   ]
  },
  {
   "cell_type": "markdown",
   "metadata": {},
   "source": [
    "### Part 3: Solving a pose graph with factor graphs"
   ]
  },
  {
   "cell_type": "code",
   "execution_count": null,
   "metadata": {},
   "outputs": [],
   "source": [
    "pose_graph = pg.create_test_pose_graph(noise_per_m=0.1, axis=\"xy\", drift_type=\"random_walk\")\n",
    "vis.show_pose_graph(pose_graph)"
   ]
  },
  {
   "cell_type": "code",
   "execution_count": null,
   "metadata": {},
   "outputs": [],
   "source": [
    "import gtsam\n",
    "import numpy as np\n",
    "\n",
    "# Create a factor graph container and add factors to it\n",
    "factor_graph = gtsam.NonlinearFactorGraph()\n",
    "\n",
    "# Add prior\n",
    "PRIOR_NOISE = gtsam.noiseModel.Diagonal.Sigmas(0.001 * np.ones(6))\n",
    "factor_graph.add(gtsam.PriorFactorPose3(0, pose_graph.get_node_pose(0), PRIOR_NOISE))\n",
    "\n",
    "# Add odometry factors\n",
    "for e in graph.edges:\n",
    "    if e[\"type\"] == \"odometry\":\n",
    "        ODOMETRY_NOISE = gtsam.noiseModel.Diagonal.Information(e[\"info\"])\n",
    "        factor_graph.add(gtsam.BetweenFactorPose3(e[\"parent_id\"], e[\"child_id\"], e[\"pose\"], ODOMETRY_NOISE))\n",
    "\n",
    "# Add initial values\n",
    "initial_estimate = gtsam.Values()\n",
    "for i, node in enumerate(graph.nodes):\n",
    "    initial_estimate.insert(i, graph.get_node_pose(i))"
   ]
  },
  {
   "cell_type": "markdown",
   "metadata": {},
   "source": [
    "#### Visualize factor graph"
   ]
  },
  {
   "cell_type": "code",
   "execution_count": null,
   "metadata": {},
   "outputs": [],
   "source": [
    "factor_graph.saveGraph(\"test.dot\", initial_estimate)\n",
    "from graphviz import Source\n",
    "s = Source.from_file(\"test.dot\")\n",
    "s.view()"
   ]
  },
  {
   "cell_type": "markdown",
   "metadata": {},
   "source": [
    "#### Optimize"
   ]
  },
  {
   "cell_type": "code",
   "execution_count": null,
   "metadata": {},
   "outputs": [],
   "source": [
    "# Setup optimizer\n",
    "parameters = gtsam.GaussNewtonParams()\n",
    "optimizer = gtsam.GaussNewtonOptimizer(factor_graph, initial_estimate, parameters)\n",
    "\n",
    "import open3d as o3d\n",
    "import time\n",
    "import copy\n",
    "\n",
    "visualizer = o3d.visualization.Visualizer()\n",
    "visualizer.create_window()\n",
    "\n",
    "graph_vis = copy.deepcopy(pose_graph)\n",
    "# Manually run optimizer\n",
    "for i in range(10):\n",
    "    print(f\"iter: {i}\")\n",
    "    visualizer.clear_geometries()\n",
    "    geometry = vis.to_geometries(graph_vis)\n",
    "    for g in geometry:\n",
    "        visualizer.add_geometry(g)\n",
    "    \n",
    "    optimizer.iterate()\n",
    "    sol = optimizer.values()\n",
    "    for n,_ in enumerate(graph_vis.nodes):\n",
    "        graph_vis.set_node_pose(n, sol.atPose3(n))\n",
    "    \n",
    "    visualizer.poll_events()\n",
    "    visualizer.update_renderer()\n",
    "    time.sleep(1)"
   ]
  },
  {
   "cell_type": "code",
   "execution_count": null,
   "metadata": {},
   "outputs": [],
   "source": [
    "# Compute marginals to show covariances\n",
    "marginals = gtsam.Marginals(factor_graph, optimizer.values())"
   ]
  }
 ],
 "metadata": {
  "kernelspec": {
   "display_name": "Python 3 (ipykernel)",
   "language": "python",
   "name": "python3"
  },
  "language_info": {
   "codemirror_mode": {
    "name": "ipython",
    "version": 3
   },
   "file_extension": ".py",
   "mimetype": "text/x-python",
   "name": "python",
   "nbconvert_exporter": "python",
   "pygments_lexer": "ipython3",
   "version": "3.8.10"
  }
 },
 "nbformat": 4,
 "nbformat_minor": 4
}
