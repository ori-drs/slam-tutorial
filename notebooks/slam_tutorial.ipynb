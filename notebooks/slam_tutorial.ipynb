{
 "cells": [
  {
   "cell_type": "markdown",
   "metadata": {},
   "source": [
    "# SLAM tutorial\n",
    "\n",
    "SLAM and factor graphs tutorial prepared for the ORIentate Seminars\n",
    "\n",
    "Author: Matias Mattamala (matias@robots.ox.ac.uk, [mmattamala@github](https://github.com/mmattamala))\n",
    "\n",
    "Date: 23/11/2023\n",
    "\n",
    "\n",
    "> ⚠️ **Warning**: Before proceeding, make sure you installed all the required dependencies in the [`requirements.txt`](../requirements.txt) file!\n"
   ]
  },
  {
   "cell_type": "markdown",
   "metadata": {},
   "source": [
    "## Preliminaries"
   ]
  },
  {
   "cell_type": "code",
   "execution_count": null,
   "metadata": {
    "tags": []
   },
   "outputs": [],
   "source": [
    "%pip install -e ../"
   ]
  },
  {
   "cell_type": "code",
   "execution_count": null,
   "metadata": {},
   "outputs": [],
   "source": [
    "import numpy as np\n",
    "import open3d as o3d\n",
    "\n",
    "import slam_tutorial\n",
    "import slam_tutorial.visualization as vis\n",
    "import slam_tutorial.pose_graph as pg\n",
    "from slam_tutorial.io import load_pose_graph"
   ]
  },
  {
   "cell_type": "markdown",
   "metadata": {
    "tags": []
   },
   "source": [
    "## Part 1: Inspecting a perfect SLAM graph\n",
    "In this first part we will check how a pose graph looks like. For that, we will use some data avaialble in the [assets](../assets/) folder."
   ]
  },
  {
   "cell_type": "code",
   "execution_count": null,
   "metadata": {
    "tags": []
   },
   "outputs": [],
   "source": [
    "graph = load_pose_graph(\n",
    "    slam_tutorial.ASSETS_DIR + \"/ground_truth.slam\",\n",
    "    clouds_path=slam_tutorial.ASSETS_DIR + \"/individual_clouds\",\n",
    ")"
   ]
  },
  {
   "cell_type": "markdown",
   "metadata": {},
   "source": [
    "The `graph` object stores the **nodes** and **edges** of the pose graph.\n",
    "\n",
    "Each **node** is defined by:\n",
    "- A _pose_ $\\mathbf{T}_{\\mathtt{WB}} \\in $ SE(3) ($4\\times4$ rigid body matrices), representing the pose of the _base_ in the _world_ frame.\n",
    "- An _id_\n",
    "- A _time stamp_ indicating when the node was created.\n",
    "\n",
    "On the other side, each **edge** is defined by:\n",
    "- A _parent id_, which indicates what is the origin node for the edge\n",
    "- A _child id_ representing the node where the edge lands\n",
    "- A _relative pose_ $\\textbf{T}_{\\text{parent, child}}$ indicating the rigid body transformation between from the child frame to the parent frame\n",
    "- A _type_ indicating if the edge was produced by an odometry system (`odometry`) or a loop candidate (`loop`)"
   ]
  },
  {
   "cell_type": "code",
   "execution_count": null,
   "metadata": {},
   "outputs": [],
   "source": [
    "import time\n",
    "\n",
    "visualizer = o3d.visualization.Visualizer()\n",
    "visualizer.create_window(\"Building a Pose Graph\")\n",
    "\n",
    "# Manually run optimizer\n",
    "for i in range(graph.size):\n",
    "    visualizer.clear_geometries()\n",
    "    geometry = vis.graph_to_geometries(\n",
    "        graph,\n",
    "        show_frames=True,\n",
    "        show_edges=True,\n",
    "        show_nodes=True,\n",
    "        show_clouds=True,\n",
    "        odometry_color=vis.GRAY,\n",
    "        loop_color=vis.RED,\n",
    "        up_to_node=i,\n",
    "    )\n",
    "    for g in geometry:\n",
    "        visualizer.add_geometry(g)\n",
    "\n",
    "    ctr = visualizer.get_view_control()\n",
    "    ctr.set_front([-0.35, -0.57, 0.7])\n",
    "    ctr.set_up([0.4, 0.5, 0.6])\n",
    "    ctr.set_zoom(0.24)\n",
    "    ctr.set_lookat([1.4, -18, 2.0])\n",
    "\n",
    "    r = visualizer.get_render_option()\n",
    "    r.point_size = 1\n",
    "\n",
    "    for g in geometry:\n",
    "        visualizer.update_geometry(g)\n",
    "\n",
    "    visualizer.poll_events()\n",
    "    visualizer.update_renderer()\n",
    "    time.sleep(0.01)\n",
    "\n",
    "visualizer.run()"
   ]
  },
  {
   "cell_type": "markdown",
   "metadata": {},
   "source": [
    "## Part 2: A more realistic pose graph\n",
    "\n",
    "The previous pose graph was generated with ground truth poses, which is not usually the case.\n",
    "\n",
    "In general, the graph will be built using an **odometry estimator**, which provides the pose of the robot in some fixed frame.\n",
    "\n",
    "The odometry estimator will provide a smooth estimate fo the robot's pose, but it **will very likely drift** over time."
   ]
  },
  {
   "cell_type": "code",
   "execution_count": null,
   "metadata": {},
   "outputs": [],
   "source": [
    "graph_with_drift = pg.add_odometry_drift(\n",
    "    graph, noise_per_m=0.1, axis=\"xy\", drift_type=\"random_walk\"\n",
    ")\n",
    "\n",
    "geometries = vis.graph_to_geometries(\n",
    "    graph_with_drift,\n",
    "    show_frames=True,\n",
    "    show_edges=True,\n",
    "    show_nodes=True,\n",
    "    show_clouds=True,\n",
    "    odometry_color=vis.GRAY,\n",
    "    loop_color=vis.RED,\n",
    ")\n",
    "\n",
    "o3d.visualization.draw_geometries(\n",
    "    geometries,\n",
    "    window_name=\"Realistic Pose Graph\",\n",
    "    zoom=0.24,\n",
    "    front=[-0.35, -0.57, 0.7],\n",
    "    lookat=[1.4, -18, 2.0],\n",
    "    up=[0.4, 0.5, 0.6],\n",
    ")"
   ]
  },
  {
   "cell_type": "markdown",
   "metadata": {},
   "source": [
    "## Part 3: Solving a pose graph with factor graphs"
   ]
  },
  {
   "cell_type": "code",
   "execution_count": null,
   "metadata": {},
   "outputs": [],
   "source": [
    "initial_graph = pg.create_test_pose_graph(\n",
    "    use_wrong_init=True,\n",
    "    use_noisy_odom=True,\n",
    "    use_true_loops=False,\n",
    "    use_false_loops=False,\n",
    "    init_noise_per_m=0.1,\n",
    "    init_drift_axis=\"xy\",\n",
    "    init_drift_type=\"random_walk\",\n",
    "    odo_noise_per_m=0.01,\n",
    "    odo_drift_axis=\"xyz\",\n",
    "    odo_drift_type=\"random_walk\",\n",
    "    loop_candidate_id_distance=10,\n",
    "    true_loop_dist_thr=5,\n",
    "    false_loop_dist_thr=10,\n",
    "    true_loop_num=2,\n",
    "    false_loop_num=10,\n",
    "    loop_info=1000,\n",
    ")\n",
    "\n",
    "geometries = vis.graph_to_geometries(\n",
    "    initial_graph,\n",
    "    show_frames=True,\n",
    "    show_edges=True,\n",
    "    show_nodes=True,\n",
    "    show_clouds=True,\n",
    "    odometry_color=vis.GRAY,\n",
    "    loop_color=vis.RED,\n",
    ")\n",
    "o3d.visualization.draw_geometries(\n",
    "    geometries,\n",
    "    window_name=\"Initial Pose Graph\",\n",
    "    zoom=0.24,\n",
    "    front=[-0.35, -0.57, 0.7],\n",
    "    lookat=[1.4, -18, 2.0],\n",
    "    up=[0.4, 0.5, 0.6],\n",
    ")"
   ]
  },
  {
   "cell_type": "markdown",
   "metadata": {},
   "source": [
    "### Prepare factor graph"
   ]
  },
  {
   "cell_type": "code",
   "execution_count": null,
   "metadata": {},
   "outputs": [],
   "source": [
    "import gtsam\n",
    "import numpy as np\n",
    "\n",
    "# Create a factor graph container and add factors to it\n",
    "factor_graph = gtsam.NonlinearFactorGraph()"
   ]
  },
  {
   "cell_type": "markdown",
   "metadata": {},
   "source": [
    "#### Add prior factor"
   ]
  },
  {
   "cell_type": "code",
   "execution_count": null,
   "metadata": {},
   "outputs": [],
   "source": [
    "PRIOR_NOISE = gtsam.noiseModel.Diagonal.Sigmas(0.001 * np.ones(6))\n",
    "factor_graph.add(gtsam.PriorFactorPose3(0, initial_graph.get_node_pose(0), PRIOR_NOISE))"
   ]
  },
  {
   "cell_type": "markdown",
   "metadata": {},
   "source": [
    "#### Add odometry factors"
   ]
  },
  {
   "cell_type": "code",
   "execution_count": null,
   "metadata": {},
   "outputs": [],
   "source": [
    "for e in initial_graph.edges:\n",
    "    if e[\"type\"] == \"odometry\":\n",
    "        ODOMETRY_NOISE = gtsam.noiseModel.Diagonal.Information(e[\"info\"])\n",
    "        factor_graph.add(\n",
    "            gtsam.BetweenFactorPose3(\n",
    "                e[\"parent_id\"], e[\"child_id\"], e[\"pose\"], ODOMETRY_NOISE\n",
    "            )\n",
    "        )"
   ]
  },
  {
   "cell_type": "markdown",
   "metadata": {},
   "source": [
    "#### Initialize state values"
   ]
  },
  {
   "cell_type": "code",
   "execution_count": null,
   "metadata": {},
   "outputs": [],
   "source": [
    "initial_estimate = gtsam.Values()\n",
    "for i, node in enumerate(initial_graph.nodes):\n",
    "    initial_estimate.insert(i, graph.get_node_pose(i))"
   ]
  },
  {
   "cell_type": "markdown",
   "metadata": {},
   "source": [
    "#### Visualize factor graph"
   ]
  },
  {
   "cell_type": "code",
   "execution_count": null,
   "metadata": {},
   "outputs": [],
   "source": [
    "factor_graph.saveGraph(\"test.dot\", initial_estimate)\n",
    "\n",
    "from graphviz import Source\n",
    "\n",
    "s = Source.from_file(\"test.dot\")\n",
    "s.view()"
   ]
  },
  {
   "cell_type": "markdown",
   "metadata": {},
   "source": [
    "#### Optimize"
   ]
  },
  {
   "cell_type": "code",
   "execution_count": null,
   "metadata": {},
   "outputs": [],
   "source": [
    "# copy graph\n",
    "import copy\n",
    "\n",
    "optimized_graph = copy.deepcopy(initial_graph)\n",
    "\n",
    "# Setup optimizer\n",
    "parameters = gtsam.GaussNewtonParams()\n",
    "optimizer = gtsam.GaussNewtonOptimizer(factor_graph, initial_estimate, parameters)\n",
    "\n",
    "result = optimizer.optimize()\n",
    "for n, _ in enumerate(optimized_graph.nodes):\n",
    "    optimized_graph.set_node_pose(n, result.atPose3(n))"
   ]
  },
  {
   "cell_type": "markdown",
   "metadata": {},
   "source": [
    "#### Visualize solution"
   ]
  },
  {
   "cell_type": "code",
   "execution_count": null,
   "metadata": {},
   "outputs": [],
   "source": [
    "geometries = vis.graph_to_geometries(\n",
    "    optimized_graph,\n",
    "    show_frames=True,\n",
    "    show_edges=True,\n",
    "    show_nodes=True,\n",
    "    show_clouds=True,\n",
    "    odometry_color=vis.GRAY,\n",
    "    loop_color=vis.RED,\n",
    ")\n",
    "o3d.visualization.draw_geometries(\n",
    "    geometries,\n",
    "    window_name=\"Optimized Pose Graph\",\n",
    "    zoom=0.24,\n",
    "    front=[-0.35, -0.57, 0.7],\n",
    "    lookat=[1.4, -18, 2.0],\n",
    "    up=[0.4, 0.5, 0.6],\n",
    ")"
   ]
  },
  {
   "cell_type": "markdown",
   "metadata": {},
   "source": [
    "#### Step-by-step optimization"
   ]
  },
  {
   "cell_type": "code",
   "execution_count": null,
   "metadata": {},
   "outputs": [],
   "source": [
    "import copy\n",
    "import open3d as o3d\n",
    "import time\n",
    "\n",
    "# copy graph\n",
    "optimized_graph = copy.deepcopy(initial_graph)\n",
    "\n",
    "# Setup optimizer\n",
    "parameters = gtsam.GaussNewtonParams()\n",
    "optimizer = gtsam.GaussNewtonOptimizer(factor_graph, initial_estimate, parameters)\n",
    "\n",
    "visualizer = o3d.visualization.Visualizer()\n",
    "visualizer.create_window(\"Step-by-step optimization\")\n",
    "\n",
    "# Manually run optimizer\n",
    "for i in range(10):\n",
    "    print(f\"iter: {i}\")\n",
    "    visualizer.clear_geometries()\n",
    "    geometry = vis.graph_to_geometries(\n",
    "        optimized_graph,\n",
    "        show_frames=True,\n",
    "        show_edges=True,\n",
    "        show_nodes=True,\n",
    "        show_clouds=True,\n",
    "        odometry_color=vis.GRAY,\n",
    "        loop_color=vis.RED,\n",
    "    )\n",
    "    for g in geometry:\n",
    "        visualizer.add_geometry(g)\n",
    "\n",
    "    ctr = visualizer.get_view_control()\n",
    "    ctr.set_front([-0.35, -0.57, 0.7])\n",
    "    ctr.set_up([0.4, 0.5, 0.6])\n",
    "    ctr.set_zoom(0.24)\n",
    "    ctr.set_lookat([1.4, -18, 2.0])\n",
    "\n",
    "    r = visualizer.get_render_option()\n",
    "    r.point_size = 1\n",
    "\n",
    "    for g in geometry:\n",
    "        visualizer.update_geometry(g)\n",
    "\n",
    "    visualizer.poll_events()\n",
    "    visualizer.update_renderer()\n",
    "\n",
    "    # optimizer.iterate()\n",
    "    # result = optimizer.values()\n",
    "    # for n, _ in enumerate(optimized_graph.nodes):\n",
    "    #     optimized_graph.set_node_pose(n, result.atPose3(n))\n",
    "    time.sleep(1)\n",
    "\n",
    "visualizer.run()"
   ]
  },
  {
   "cell_type": "markdown",
   "metadata": {},
   "source": [
    "## Part 4: Adding loops"
   ]
  },
  {
   "cell_type": "code",
   "execution_count": null,
   "metadata": {},
   "outputs": [],
   "source": [
    "initial_graph = pg.create_test_pose_graph(\n",
    "    use_wrong_init=True,\n",
    "    use_noisy_odom=True,\n",
    "    use_true_loops=True,\n",
    "    use_false_loops=True,\n",
    "    init_noise_per_m=0.1,\n",
    "    odo_noise_per_m=0.01,\n",
    "    loop_candidate_id_distance=10,\n",
    "    true_loop_dist_thr=5,\n",
    "    true_loop_num=2,\n",
    "    false_loop_dist_thr=10,\n",
    "    false_loop_num=5,\n",
    "    loop_info=1000,\n",
    ")\n",
    "\n",
    "geometries = vis.graph_to_geometries(\n",
    "    initial_graph,\n",
    "    show_frames=True,\n",
    "    show_edges=True,\n",
    "    show_nodes=True,\n",
    "    show_clouds=True,\n",
    "    odometry_color=vis.GRAY,\n",
    "    loop_color=vis.RED,\n",
    ")\n",
    "o3d.visualization.draw_geometries(\n",
    "    geometries,\n",
    "    window_name=\"Initial Pose Graph\",\n",
    "    zoom=0.24,\n",
    "    front=[-0.35, -0.57, 0.7],\n",
    "    lookat=[1.4, -18, 2.0],\n",
    "    up=[0.4, 0.5, 0.6],\n",
    ")"
   ]
  },
  {
   "cell_type": "markdown",
   "metadata": {},
   "source": [
    "### Setup factor graph"
   ]
  },
  {
   "cell_type": "code",
   "execution_count": null,
   "metadata": {},
   "outputs": [],
   "source": [
    "import gtsam\n",
    "import numpy as np\n",
    "\n",
    "# Create a factor graph container and add factors to it\n",
    "factor_graph = gtsam.NonlinearFactorGraph()\n",
    "\n",
    "PRIOR_NOISE = gtsam.noiseModel.Diagonal.Sigmas(0.001 * np.ones(6))\n",
    "factor_graph.add(gtsam.PriorFactorPose3(0, initial_graph.get_node_pose(0), PRIOR_NOISE))\n",
    "\n",
    "for e in initial_graph.edges:\n",
    "    if e[\"type\"] == \"odometry\":\n",
    "        ODOMETRY_NOISE = gtsam.noiseModel.Diagonal.Information(e[\"info\"])\n",
    "        factor_graph.add(\n",
    "            gtsam.BetweenFactorPose3(\n",
    "                e[\"parent_id\"], e[\"child_id\"], e[\"pose\"], ODOMETRY_NOISE\n",
    "            )\n",
    "        )"
   ]
  },
  {
   "cell_type": "markdown",
   "metadata": {},
   "source": [
    "### Add loop candidate factors"
   ]
  },
  {
   "cell_type": "code",
   "execution_count": null,
   "metadata": {},
   "outputs": [],
   "source": [
    "for e in initial_graph.edges:\n",
    "    if e[\"type\"] == \"loop\":\n",
    "        LOOP_NOISE = gtsam.noiseModel.Diagonal.Information(1000 * np.eye(6))\n",
    "        # ROBUST_MODEL = gtsam.noiseModel.Robust.Create(\n",
    "        #     gtsam.noiseModel.mEstimator.DCS.Create(1.0), LOOP_NOISE\n",
    "        # )\n",
    "\n",
    "        factor_graph.add(\n",
    "            gtsam.BetweenFactorPose3(\n",
    "                e[\"parent_id\"], e[\"child_id\"], e[\"pose\"], ROBUST_MODEL\n",
    "            )\n",
    "        )"
   ]
  },
  {
   "cell_type": "markdown",
   "metadata": {},
   "source": [
    "### Initialize state values"
   ]
  },
  {
   "cell_type": "code",
   "execution_count": null,
   "metadata": {},
   "outputs": [],
   "source": [
    "initial_estimate = gtsam.Values()\n",
    "for i, node in enumerate(initial_graph.nodes):\n",
    "    initial_estimate.insert(i, graph.get_node_pose(i))"
   ]
  },
  {
   "cell_type": "markdown",
   "metadata": {},
   "source": [
    "### Visualize factor graph"
   ]
  },
  {
   "cell_type": "code",
   "execution_count": null,
   "metadata": {},
   "outputs": [],
   "source": [
    "factor_graph.saveGraph(\"test.dot\", initial_estimate)\n",
    "\n",
    "from graphviz import Source\n",
    "\n",
    "s = Source.from_file(\"test.dot\")\n",
    "s.view()"
   ]
  },
  {
   "cell_type": "markdown",
   "metadata": {},
   "source": [
    "### Optimize"
   ]
  },
  {
   "cell_type": "code",
   "execution_count": null,
   "metadata": {},
   "outputs": [],
   "source": [
    "optimized_graph = copy.deepcopy(initial_graph)\n",
    "\n",
    "# Setup optimizer\n",
    "parameters = gtsam.GaussNewtonParams()\n",
    "optimizer = gtsam.GaussNewtonOptimizer(factor_graph, initial_estimate, parameters)\n",
    "\n",
    "result = optimizer.optimize()\n",
    "for n, _ in enumerate(optimized_graph.nodes):\n",
    "    optimized_graph.set_node_pose(n, result.atPose3(n))"
   ]
  },
  {
   "cell_type": "markdown",
   "metadata": {},
   "source": [
    "### Visualize solution"
   ]
  },
  {
   "cell_type": "code",
   "execution_count": null,
   "metadata": {},
   "outputs": [],
   "source": [
    "geometries = vis.graph_to_geometries(\n",
    "    optimized_graph,\n",
    "    show_frames=True,\n",
    "    show_edges=True,\n",
    "    show_nodes=True,\n",
    "    show_clouds=True,\n",
    "    odometry_color=vis.GRAY,\n",
    "    loop_color=vis.RED,\n",
    ")\n",
    "o3d.visualization.draw_geometries(\n",
    "    geometries,\n",
    "    window_name=\"Optimized Pose Graph\",\n",
    "    zoom=0.24,\n",
    "    front=[-0.35, -0.57, 0.7],\n",
    "    lookat=[1.4, -18, 2.0],\n",
    "    up=[0.4, 0.5, 0.6],\n",
    ")"
   ]
  },
  {
   "cell_type": "code",
   "execution_count": null,
   "metadata": {},
   "outputs": [],
   "source": []
  }
 ],
 "metadata": {
  "kernelspec": {
   "display_name": "Python 3 (ipykernel)",
   "language": "python",
   "name": "python3"
  },
  "language_info": {
   "codemirror_mode": {
    "name": "ipython",
    "version": 3
   },
   "file_extension": ".py",
   "mimetype": "text/x-python",
   "name": "python",
   "nbconvert_exporter": "python",
   "pygments_lexer": "ipython3",
   "version": "3.10.13"
  }
 },
 "nbformat": 4,
 "nbformat_minor": 4
}
