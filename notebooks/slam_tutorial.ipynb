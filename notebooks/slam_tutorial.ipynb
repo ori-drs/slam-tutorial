{
 "cells": [
  {
   "cell_type": "markdown",
   "metadata": {},
   "source": [
    "# SLAM tutorial\n",
    "\n",
    "SLAM and factor graphs tutorial prepared for the ORIentate Seminars\n",
    "\n",
    "Author: Matias Mattamala (matias@robots.ox.ac.uk, [mmattamala@github](https://github.com/mmattamala))\n",
    "\n",
    "Date: 23/11/2023\n",
    "\n",
    "\n",
    "> ⚠️ **Warning**: Before proceeding, make sure you installed all the required dependencies in the [`requirements.txt`](../requirements.txt) file!\n"
   ]
  },
  {
   "cell_type": "markdown",
   "metadata": {},
   "source": [
    "## Preliminaries"
   ]
  },
  {
   "cell_type": "code",
   "execution_count": null,
   "metadata": {
    "tags": []
   },
   "outputs": [],
   "source": [
    "%pip install -e ../"
   ]
  },
  {
   "cell_type": "markdown",
   "metadata": {
    "tags": []
   },
   "source": [
    "## Inspecting a SLAM graph"
   ]
  },
  {
   "cell_type": "code",
   "execution_count": null,
   "metadata": {
    "tags": []
   },
   "outputs": [],
   "source": [
    "import slam_tutorial"
   ]
  },
  {
   "cell_type": "code",
   "execution_count": null,
   "metadata": {
    "tags": []
   },
   "outputs": [],
   "source": [
    "from slam_tutorial.io import load_ground_truth\n",
    "df = load_ground_truth(slam_tutorial.ASSETS_DIR + \"/graphs/ground_truth.csv\")"
   ]
  },
  {
   "cell_type": "code",
   "execution_count": null,
   "metadata": {},
   "outputs": [],
   "source": [
    "import open3d as o3d\n",
    "import numpy as np\n",
    "import pandas as pd\n",
    "\n",
    "viz_clouds = []\n",
    "x_tm1 = y_tm1 = z_tm1 = None\n",
    "for s, ns, x_t, y_t, z_t, qx_t, qy_t, qz_t, qw_t in zip(df['#sec'], df['nsec'], df['x'], df['y'], df['z'], df['qx'], df['qy'], df['qz'], df['qw']):\n",
    "    pose = o3d.geometry.TriangleMesh.create_coordinate_frame(size=1.0, origin=np.array([x_t, y_t, z_t]))\n",
    "    viz_clouds.append(pose)"
   ]
  },
  {
   "cell_type": "code",
   "execution_count": null,
   "metadata": {},
   "outputs": [],
   "source": [
    "# o3d.visualization.draw_geometries(\n",
    "#             viz_clouds,\n",
    "#             window_name=\"ground_truth\",\n",
    "# )"
   ]
  },
  {
   "cell_type": "code",
   "execution_count": null,
   "metadata": {},
   "outputs": [],
   "source": [
    "from slam_tutorial.io import load_pose_graph\n",
    "graph = load_pose_graph(slam_tutorial.ASSETS_DIR + \"/graphs/slam_pose_graph.slam\")"
   ]
  },
  {
   "cell_type": "code",
   "execution_count": null,
   "metadata": {},
   "outputs": [],
   "source": [
    "# graph.show()"
   ]
  },
  {
   "cell_type": "code",
   "execution_count": null,
   "metadata": {},
   "outputs": [],
   "source": [
    "import gtsam\n",
    "from gtsam import Pose3\n",
    "\n",
    "# 1. Create a factor graph container and add factors to it\n",
    "factor_graph = gtsam.NonlinearFactorGraph()\n",
    "\n",
    "# Add prior\n",
    "PRIOR_NOISE = gtsam.noiseModel.Diagonal.Sigmas(0.001 * np.array([0.1, 0.1, 0.1, 0.1, 0.1, 0.1]))\n",
    "factor_graph.add(gtsam.PriorFactorPose3(0, gtsam.Pose3(graph.get_node_pose(0).flatten()), PRIOR_NOISE))\n",
    "\n",
    "# Add odometry\n",
    "for e in graph.edges:\n",
    "    if e[\"type\"] == \"odometry\":\n",
    "        ODOMETRY_NOISE = gtsam.noiseModel.Diagonal.Information(e[\"info\"])\n",
    "        factor_graph.add(gtsam.BetweenFactorPose3(e[\"parent_id\"], e[\"child_id\"], gtsam.Pose3(e[\"pose\"].flatten()), ODOMETRY_NOISE))\n",
    "\n",
    "# Add initial values\n",
    "initial_estimate = gtsam.Values()\n",
    "for id, node in graph.nodes.items():\n",
    "    initial_estimate.insert(id, gtsam.Pose3(graph.get_node_pose(id).flatten()))\n",
    "\n",
    "# Setup optimizer\n",
    "# parameters = gtsam.GaussNewtonParams()\n",
    "# optimizer = gtsam.GaussNewtonOptimizer(factor_graph, initial_estimate, parameters)\n",
    "# optimizer.optimize()\n",
    "\n",
    "parameters = gtsam.LevenbergMarquardtParams()\n",
    "optimizer = gtsam.LevenbergMarquardtOptimizer(factor_graph, initial_estimate, parameters)\n",
    "\n",
    "# Manually run optimizer\n",
    "for i in range(10):\n",
    "    optimizer.iterate()\n",
    "    sol = optimizer.values()\n",
    "    for n,_ in enumerate(graph.nodes):\n",
    "        graph.set_node_pose(n, sol.atPose3(n).matrix())\n",
    "    # print(optimizer.values().atPose3(0))\n",
    "\n",
    "# Compute marginals to show covariances\n",
    "marginals = gtsam.Marginals(factor_graph, optimizer.values())"
   ]
  },
  {
   "cell_type": "code",
   "execution_count": null,
   "metadata": {},
   "outputs": [],
   "source": [
    "# factor_graph.saveGraph(\"test.dot\", initial_estimate)\n",
    "# from graphviz import Source\n",
    "# s = Source.from_file(\"test.dot\")\n",
    "# s.view()"
   ]
  },
  {
   "cell_type": "code",
   "execution_count": null,
   "metadata": {},
   "outputs": [],
   "source": [
    "# vis = o3d.visualization.Visualizer()\n",
    "# vis.create_window()\n",
    "\n",
    "# # geometry is the point cloud used in your animaiton\n",
    "# geometry = o3d.geometry.PointCloud()\n",
    "# vis.add_geometry(geometry)\n",
    "\n",
    "# for i in range(icp_iteration):\n",
    "#     # now modify the points of your geometry\n",
    "#     # you can use whatever method suits you best, this is just an example\n",
    "#     geometry.points = pcd_list[i].points\n",
    "#     vis.update_geometry(geometry)\n",
    "#     vis.poll_events()\n",
    "#     vis.update_renderer()"
   ]
  }
 ],
 "metadata": {
  "kernelspec": {
   "display_name": "Python 3 (ipykernel)",
   "language": "python",
   "name": "python3"
  },
  "language_info": {
   "codemirror_mode": {
    "name": "ipython",
    "version": 3
   },
   "file_extension": ".py",
   "mimetype": "text/x-python",
   "name": "python",
   "nbconvert_exporter": "python",
   "pygments_lexer": "ipython3",
   "version": "3.8.18"
  }
 },
 "nbformat": 4,
 "nbformat_minor": 4
}
