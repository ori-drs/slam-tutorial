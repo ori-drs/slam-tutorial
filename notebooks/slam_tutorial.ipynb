{
 "cells": [
  {
   "cell_type": "markdown",
   "metadata": {},
   "source": [
    "# SLAM tutorial\n",
    "\n",
    "SLAM and factor graphs tutorial prepared for the ORIentate Seminars\n",
    "\n",
    "Author: Matias Mattamala (matias@robots.ox.ac.uk, [mmattamala@github](https://github.com/mmattamala))\n",
    "\n",
    "Date: 23/11/2023\n",
    "\n",
    "\n",
    "> ⚠️ **Warning**: Before proceeding, make sure you installed all the required dependencies in the [`requirements.txt`](../requirements.txt) file!\n"
   ]
  },
  {
   "cell_type": "markdown",
   "metadata": {},
   "source": [
    "## Preliminaries"
   ]
  },
  {
   "cell_type": "code",
   "execution_count": null,
   "metadata": {
    "tags": []
   },
   "outputs": [],
   "source": [
    "%pip install -e ../"
   ]
  },
  {
   "cell_type": "markdown",
   "metadata": {
    "tags": []
   },
   "source": [
    "### Part 1: Inspecting a perfect SLAM graph\n",
    "In this first part we will check how a pose graph looks like. For that, we will use some data avaialble in the [assets](../assets/) folder."
   ]
  },
  {
   "cell_type": "code",
   "execution_count": null,
   "metadata": {
    "tags": []
   },
   "outputs": [],
   "source": [
    "import slam_tutorial\n",
    "from slam_tutorial.io import load_pose_graph\n",
    "import numpy as np\n",
    "\n",
    "graph = load_pose_graph(\n",
    "    slam_tutorial.ASSETS_DIR + \"/ground_truth.slam\",\n",
    "    clouds_path=slam_tutorial.ASSETS_DIR + \"/individual_clouds\",\n",
    ")"
   ]
  },
  {
   "cell_type": "markdown",
   "metadata": {},
   "source": [
    "The `graph` object stores the **nodes** and **edges** of the pose graph.\n",
    "\n",
    "Each **node** is defined by:\n",
    "- A _pose_ $\\mathbf{T}_{\\mathtt{WB}} \\in $ SE(3) ($4\\times4$ rigid body matrices), representing the pose of the _base_ in the _world_ frame.\n",
    "- An _id_\n",
    "- A _time stamp_ indicating when the node was created.\n",
    "\n",
    "On the other side, each **edge** is defined by:\n",
    "- A _parent id_, which indicates what is the origin node for the edge\n",
    "- A _child id_ representing the node where the edge lands\n",
    "- A _relative pose_ $\\textbf{T}_{\\text{parent, child}}$ indicating the rigid body transformation between from the child frame to the parent frame\n",
    "- A _type_ indicating if the edge was produced by an odometry system (`odometry`) or a loop candidate (`loop`)"
   ]
  },
  {
   "cell_type": "markdown",
   "metadata": {},
   "source": [
    "We can visualize the pose graph in 3D using the helper function `show_pose_graph`"
   ]
  },
  {
   "cell_type": "code",
   "execution_count": null,
   "metadata": {},
   "outputs": [],
   "source": [
    "import slam_tutorial.visualization as vis\n",
    "\n",
    "vis.show_pose_graph(\n",
    "    graph,\n",
    "    show_ids=True,\n",
    "    show_frames=True,\n",
    "    show_edges=False,\n",
    "    show_nodes=False,\n",
    "    show_clouds=True,\n",
    "    odometry_color=vis.GRAY,\n",
    "    loop_color=vis.RED,\n",
    ")"
   ]
  },
  {
   "cell_type": "markdown",
   "metadata": {},
   "source": [
    "### Part 2: A more realistic pose graph"
   ]
  },
  {
   "cell_type": "code",
   "execution_count": null,
   "metadata": {},
   "outputs": [],
   "source": [
    "import slam_tutorial.pose_graph as pg\n",
    "\n",
    "graph_with_drift = pg.add_odometry_drift(\n",
    "    graph, noise_per_m=0.1, axis=\"xy\", drift_type=\"random_walk\"\n",
    ")\n",
    "vis.show_pose_graph(graph_with_drift)"
   ]
  },
  {
   "cell_type": "markdown",
   "metadata": {},
   "source": [
    "### Part 3: Solving a pose graph with factor graphs"
   ]
  },
  {
   "cell_type": "code",
   "execution_count": null,
   "metadata": {},
   "outputs": [],
   "source": [
    "initial_graph = pg.create_test_pose_graph(\n",
    "    noise_per_m=0.1, axis=\"xy\", drift_type=\"random_walk\"\n",
    ")\n",
    "vis.show_pose_graph(initial_graph, window_name=\"Initial Graph\", show_clouds=True)"
   ]
  },
  {
   "cell_type": "code",
   "execution_count": null,
   "metadata": {},
   "outputs": [],
   "source": [
    "import gtsam\n",
    "import numpy as np\n",
    "\n",
    "# Create a factor graph container and add factors to it\n",
    "factor_graph = gtsam.NonlinearFactorGraph()\n",
    "\n",
    "# Add prior\n",
    "PRIOR_NOISE = gtsam.noiseModel.Diagonal.Sigmas(0.001 * np.ones(6))\n",
    "factor_graph.add(gtsam.PriorFactorPose3(0, initial_graph.get_node_pose(0), PRIOR_NOISE))\n",
    "\n",
    "# Add odometry factors\n",
    "for e in initial_graph.edges:\n",
    "    if e[\"type\"] == \"odometry\":\n",
    "        ODOMETRY_NOISE = gtsam.noiseModel.Diagonal.Information(e[\"info\"])\n",
    "        factor_graph.add(\n",
    "            gtsam.BetweenFactorPose3(\n",
    "                e[\"parent_id\"], e[\"child_id\"], e[\"pose\"], ODOMETRY_NOISE\n",
    "            )\n",
    "        )\n",
    "\n",
    "# Add initial values\n",
    "initial_estimate = gtsam.Values()\n",
    "for i, node in enumerate(initial_graph.nodes):\n",
    "    initial_estimate.insert(i, graph.get_node_pose(i))"
   ]
  },
  {
   "cell_type": "markdown",
   "metadata": {},
   "source": [
    "#### Visualize factor graph"
   ]
  },
  {
   "cell_type": "code",
   "execution_count": null,
   "metadata": {},
   "outputs": [],
   "source": [
    "factor_graph.saveGraph(\"test.dot\", initial_estimate)\n",
    "from graphviz import Source\n",
    "\n",
    "s = Source.from_file(\"test.dot\")\n",
    "s.view()"
   ]
  },
  {
   "cell_type": "markdown",
   "metadata": {},
   "source": [
    "#### Optimize"
   ]
  },
  {
   "cell_type": "code",
   "execution_count": null,
   "metadata": {},
   "outputs": [],
   "source": [
    "# copy graph\n",
    "import copy\n",
    "optimized_graph = copy.deepcopy(initial_graph)\n",
    "\n",
    "# Setup optimizer\n",
    "parameters = gtsam.GaussNewtonParams()\n",
    "optimizer = gtsam.GaussNewtonOptimizer(factor_graph, initial_estimate, parameters)\n",
    "\n",
    "result = optimizer.optimize()\n",
    "for n, _ in enumerate(optimized_graph.nodes):\n",
    "        optimized_graph.set_node_pose(n, result.atPose3(n))\n",
    "vis.show_pose_graph(optimized_graph, window_name=\"Optimized Graph\", show_clouds=True)"
   ]
  },
  {
   "cell_type": "code",
   "execution_count": null,
   "metadata": {},
   "outputs": [],
   "source": [
    "# Setup optimizer\n",
    "parameters = gtsam.GaussNewtonParams()\n",
    "optimizer = gtsam.GaussNewtonOptimizer(factor_graph, initial_estimate, parameters)\n",
    "\n",
    "import open3d as o3d\n",
    "import time\n",
    "import copy\n",
    "\n",
    "visualizer = o3d.visualization.Visualizer()\n",
    "visualizer.create_window()\n",
    "\n",
    "graph_vis = copy.deepcopy(pose_graph)\n",
    "# Manually run optimizer\n",
    "for i in range(10):\n",
    "    print(f\"iter: {i}\")\n",
    "    visualizer.clear_geometries()\n",
    "    geometry = vis.to_geometries(graph_vis)\n",
    "    for g in geometry:\n",
    "        visualizer.add_geometry(g)\n",
    "\n",
    "    optimizer.iterate()\n",
    "    result = optimizer.values()\n",
    "    for n, _ in enumerate(graph_vis.nodes):\n",
    "        graph_vis.set_node_pose(n, result.atPose3(n))\n",
    "\n",
    "    visualizer.poll_events()\n",
    "    visualizer.update_renderer()\n",
    "    time.sleep(1)"
   ]
  },
  {
   "cell_type": "code",
   "execution_count": null,
   "metadata": {},
   "outputs": [],
   "source": [
    "# Compute marginals to show covariances\n",
    "marginals = gtsam.Marginals(factor_graph, optimizer.values())"
   ]
  },
  {
   "cell_type": "code",
   "execution_count": null,
   "metadata": {},
   "outputs": [],
   "source": [
    "import numpy as np\n",
    "import open3d as o3d\n",
    "import open3d.visualization.gui as gui\n",
    "import open3d.visualization.rendering as rendering\n",
    "\n",
    "\n",
    "def make_point_cloud(npts, center, radius):\n",
    "    pts = np.random.uniform(-radius, radius, size=[npts, 3]) + center\n",
    "    cloud = o3d.geometry.PointCloud()\n",
    "    cloud.points = o3d.utility.Vector3dVector(pts)\n",
    "    colors = np.random.uniform(0.0, 1.0, size=[npts, 3])\n",
    "    cloud.colors = o3d.utility.Vector3dVector(colors)\n",
    "    return cloud\n",
    "\n",
    "\n",
    "app = gui.Application.instance\n",
    "app.initialize()\n",
    "\n",
    "points = make_point_cloud(100, (0, 0, 0), 1.0)\n",
    "\n",
    "vis = o3d.visualization.O3DVisualizer(\"Open3D - 3D Text\", 1024, 768)\n",
    "vis.show_settings = True\n",
    "vis.add_geometry(\"Points\", points)\n",
    "for idx in range(0, len(points.points)):\n",
    "    vis.add_3d_label(points.points[idx], \"{}\".format(idx))\n",
    "vis.reset_camera_to_default()\n",
    "\n",
    "app.add_window(vis)\n",
    "app.run()"
   ]
  },
  {
   "cell_type": "code",
   "execution_count": null,
   "metadata": {},
   "outputs": [],
   "source": []
  }
 ],
 "metadata": {
  "kernelspec": {
   "display_name": "Python 3 (ipykernel)",
   "language": "python",
   "name": "python3"
  },
  "language_info": {
   "codemirror_mode": {
    "name": "ipython",
    "version": 3
   },
   "file_extension": ".py",
   "mimetype": "text/x-python",
   "name": "python",
   "nbconvert_exporter": "python",
   "pygments_lexer": "ipython3",
   "version": "3.8.10"
  }
 },
 "nbformat": 4,
 "nbformat_minor": 4
}
