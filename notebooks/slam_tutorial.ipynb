{
 "cells": [
  {
   "cell_type": "markdown",
   "metadata": {},
   "source": [
    "# SLAM tutorial\n",
    "\n",
    "SLAM and factor graphs tutorial prepared for the ORIentate Seminars\n",
    "\n",
    "Author: Matias Mattamala (matias@robots.ox.ac.uk, [mmattamala@github](https://github.com/mmattamala))\n",
    "\n",
    "Date: 23/11/2023\n",
    "\n",
    "\n",
    "> ⚠️ **Warning**: Before proceeding, make sure you installed all the required dependencies in the [`requirements.txt`](../requirements.txt) file!\n"
   ]
  },
  {
   "cell_type": "markdown",
   "metadata": {},
   "source": [
    "## Preliminaries"
   ]
  },
  {
   "cell_type": "code",
   "execution_count": 1,
   "metadata": {
    "tags": []
   },
   "outputs": [
    {
     "name": "stdout",
     "output_type": "stream",
     "text": [
      "Obtaining file:///Users/matias/git/slam_tutorial\n",
      "  Preparing metadata (setup.py) ... \u001b[?25ldone\n",
      "\u001b[?25hInstalling collected packages: slam-tutorial\n",
      "  Attempting uninstall: slam-tutorial\n",
      "    Found existing installation: slam-tutorial 0.1.0\n",
      "    Uninstalling slam-tutorial-0.1.0:\n",
      "      Successfully uninstalled slam-tutorial-0.1.0\n",
      "  Running setup.py develop for slam-tutorial\n",
      "Successfully installed slam-tutorial-0.1.0\n",
      "Note: you may need to restart the kernel to use updated packages.\n"
     ]
    }
   ],
   "source": [
    "%pip install -e ../"
   ]
  },
  {
   "cell_type": "markdown",
   "metadata": {
    "tags": []
   },
   "source": [
    "## Inspecting a SLAM graph"
   ]
  },
  {
   "cell_type": "code",
   "execution_count": 2,
   "metadata": {
    "tags": []
   },
   "outputs": [],
   "source": [
    "import slam_tutorial"
   ]
  },
  {
   "cell_type": "code",
   "execution_count": 3,
   "metadata": {
    "tags": []
   },
   "outputs": [],
   "source": [
    "from slam_tutorial.io import load_ground_truth\n",
    "df = load_ground_truth(slam_tutorial.ASSETS_DIR + \"/graphs/ground_truth.csv\")"
   ]
  },
  {
   "cell_type": "code",
   "execution_count": 4,
   "metadata": {},
   "outputs": [],
   "source": [
    "import open3d as o3d\n",
    "import numpy as np\n",
    "import pandas as pd\n",
    "\n",
    "viz_clouds = []\n",
    "x_tm1 = y_tm1 = z_tm1 = None\n",
    "for s, ns, x_t, y_t, z_t, qx_t, qy_t, qz_t, qw_t in zip(df['#sec'], df['nsec'], df['x'], df['y'], df['z'], df['qx'], df['qy'], df['qz'], df['qw']):\n",
    "    pose = o3d.geometry.TriangleMesh.create_coordinate_frame(size=1.0, origin=np.array([x_t, y_t, z_t]))\n",
    "    viz_clouds.append(pose)"
   ]
  },
  {
   "cell_type": "code",
   "execution_count": 5,
   "metadata": {},
   "outputs": [],
   "source": [
    "# o3d.visualization.draw_geometries(\n",
    "#             viz_clouds,\n",
    "#             window_name=\"ground_truth\",\n",
    "# )"
   ]
  },
  {
   "cell_type": "code",
   "execution_count": 6,
   "metadata": {},
   "outputs": [],
   "source": [
    "from slam_tutorial.io import load_pose_graph\n",
    "graph = load_pose_graph(slam_tutorial.ASSETS_DIR + \"/graphs/slam_pose_graph.slam\")"
   ]
  },
  {
   "cell_type": "code",
   "execution_count": 7,
   "metadata": {},
   "outputs": [],
   "source": [
    "# graph.show()"
   ]
  },
  {
   "cell_type": "code",
   "execution_count": 11,
   "metadata": {},
   "outputs": [],
   "source": [
    "import gtsam\n",
    "from gtsam import Pose3\n",
    "\n",
    "# 1. Create a factor graph container and add factors to it\n",
    "factor_graph = gtsam.NonlinearFactorGraph()\n",
    "\n",
    "# Add prior\n",
    "PRIOR_NOISE = gtsam.noiseModel.Diagonal.Sigmas(0.001 * np.array([0.1, 0.1, 0.1, 0.1, 0.1, 0.1]))\n",
    "factor_graph.add(gtsam.PriorFactorPose3(0, gtsam.Pose3(graph.get_node_pose(0).flatten()), PRIOR_NOISE))\n",
    "\n",
    "# Add odometry\n",
    "for e in graph.edges:\n",
    "    if e[\"type\"] == \"odometry\":\n",
    "        ODOMETRY_NOISE = gtsam.noiseModel.Diagonal.Information(e[\"info\"])\n",
    "        factor_graph.add(gtsam.BetweenFactorPose3(e[\"parent_id\"], e[\"child_id\"], gtsam.Pose3(e[\"pose\"].flatten()), ODOMETRY_NOISE))\n",
    "\n",
    "# Add initial values\n",
    "initial_estimate = gtsam.Values()\n",
    "for id, node in graph.nodes.items():\n",
    "    initial_estimate.insert(id, gtsam.Pose3(graph.get_node_pose(id).flatten()))\n",
    "\n",
    "# Setup optimizer\n",
    "# parameters = gtsam.GaussNewtonParams()\n",
    "# optimizer = gtsam.GaussNewtonOptimizer(factor_graph, initial_estimate, parameters)\n",
    "# optimizer.optimize()\n",
    "\n",
    "parameters = gtsam.LevenbergMarquardtParams()\n",
    "optimizer = gtsam.LevenbergMarquardtOptimizer(factor_graph, initial_estimate, parameters)\n",
    "\n",
    "for i in range(10):\n",
    "    optimizer.iterate()\n",
    "    sol = optimizer.values()\n",
    "    for n,_ in enumerate(graph.nodes):\n",
    "        graph.set_node_pose(n, sol.atPose3(n).matrix())\n",
    "    # print(optimizer.values().atPose3(0))\n",
    "\n",
    "marginals = gtsam.Marginals(factor_graph, optimizer.values())"
   ]
  },
  {
   "cell_type": "code",
   "execution_count": 9,
   "metadata": {},
   "outputs": [
    {
     "data": {
      "text/plain": [
       "'test.dot.pdf'"
      ]
     },
     "execution_count": 9,
     "metadata": {},
     "output_type": "execute_result"
    }
   ],
   "source": [
    "# factor_graph.saveGraph(\"test.dot\", initial_estimate)\n",
    "# from graphviz import Source\n",
    "# s = Source.from_file(\"test.dot\")\n",
    "# s.view()"
   ]
  },
  {
   "cell_type": "code",
   "execution_count": 10,
   "metadata": {},
   "outputs": [
    {
     "name": "stdout",
     "output_type": "stream",
     "text": [
      "\u001b[1;33m[Open3D WARNING] GLFW Error: Cocoa: Failed to find service port for display\u001b[0;m\n"
     ]
    },
    {
     "ename": "NameError",
     "evalue": "name 'icp_iteration' is not defined",
     "output_type": "error",
     "traceback": [
      "\u001b[0;31m---------------------------------------------------------------------------\u001b[0m",
      "\u001b[0;31mNameError\u001b[0m                                 Traceback (most recent call last)",
      "\u001b[1;32m/Users/matias/git/slam_tutorial/notebooks/slam_tutorial.ipynb Cell 14\u001b[0m line \u001b[0;36m8\n\u001b[1;32m      <a href='vscode-notebook-cell:/Users/matias/git/slam_tutorial/notebooks/slam_tutorial.ipynb#X21sZmlsZQ%3D%3D?line=4'>5</a>\u001b[0m geometry \u001b[39m=\u001b[39m o3d\u001b[39m.\u001b[39mgeometry\u001b[39m.\u001b[39mPointCloud()\n\u001b[1;32m      <a href='vscode-notebook-cell:/Users/matias/git/slam_tutorial/notebooks/slam_tutorial.ipynb#X21sZmlsZQ%3D%3D?line=5'>6</a>\u001b[0m vis\u001b[39m.\u001b[39madd_geometry(geometry)\n\u001b[0;32m----> <a href='vscode-notebook-cell:/Users/matias/git/slam_tutorial/notebooks/slam_tutorial.ipynb#X21sZmlsZQ%3D%3D?line=7'>8</a>\u001b[0m \u001b[39mfor\u001b[39;00m i \u001b[39min\u001b[39;00m \u001b[39mrange\u001b[39m(icp_iteration):\n\u001b[1;32m      <a href='vscode-notebook-cell:/Users/matias/git/slam_tutorial/notebooks/slam_tutorial.ipynb#X21sZmlsZQ%3D%3D?line=8'>9</a>\u001b[0m     \u001b[39m# now modify the points of your geometry\u001b[39;00m\n\u001b[1;32m     <a href='vscode-notebook-cell:/Users/matias/git/slam_tutorial/notebooks/slam_tutorial.ipynb#X21sZmlsZQ%3D%3D?line=9'>10</a>\u001b[0m     \u001b[39m# you can use whatever method suits you best, this is just an example\u001b[39;00m\n\u001b[1;32m     <a href='vscode-notebook-cell:/Users/matias/git/slam_tutorial/notebooks/slam_tutorial.ipynb#X21sZmlsZQ%3D%3D?line=10'>11</a>\u001b[0m     geometry\u001b[39m.\u001b[39mpoints \u001b[39m=\u001b[39m pcd_list[i]\u001b[39m.\u001b[39mpoints\n\u001b[1;32m     <a href='vscode-notebook-cell:/Users/matias/git/slam_tutorial/notebooks/slam_tutorial.ipynb#X21sZmlsZQ%3D%3D?line=11'>12</a>\u001b[0m     vis\u001b[39m.\u001b[39mupdate_geometry(geometry)\n",
      "\u001b[0;31mNameError\u001b[0m: name 'icp_iteration' is not defined"
     ]
    }
   ],
   "source": [
    "# vis = o3d.visualization.Visualizer()\n",
    "# vis.create_window()\n",
    "\n",
    "# # geometry is the point cloud used in your animaiton\n",
    "# geometry = o3d.geometry.PointCloud()\n",
    "# vis.add_geometry(geometry)\n",
    "\n",
    "# for i in range(icp_iteration):\n",
    "#     # now modify the points of your geometry\n",
    "#     # you can use whatever method suits you best, this is just an example\n",
    "#     geometry.points = pcd_list[i].points\n",
    "#     vis.update_geometry(geometry)\n",
    "#     vis.poll_events()\n",
    "#     vis.update_renderer()"
   ]
  }
 ],
 "metadata": {
  "kernelspec": {
   "display_name": "Python 3 (ipykernel)",
   "language": "python",
   "name": "python3"
  },
  "language_info": {
   "codemirror_mode": {
    "name": "ipython",
    "version": 3
   },
   "file_extension": ".py",
   "mimetype": "text/x-python",
   "name": "python",
   "nbconvert_exporter": "python",
   "pygments_lexer": "ipython3",
   "version": "3.8.18"
  }
 },
 "nbformat": 4,
 "nbformat_minor": 4
}
